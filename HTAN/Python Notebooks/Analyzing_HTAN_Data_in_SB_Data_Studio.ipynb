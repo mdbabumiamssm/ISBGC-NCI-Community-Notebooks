{
 "cells": [
  {
   "cell_type": "markdown",
   "metadata": {},
   "source": [
    "# Integrating Controlled and Open Access 10X Visium Data in SB-CGC Data Studio"
   ]
  },
  {
   "cell_type": "markdown",
   "metadata": {},
   "source": [
    "    Title:   Integrating Controlled and Open Access 10X Visium Data in SB-CGC Data Studio\n",
    "    Author:  Clarisse Lau (clau@systemsbiology.org)\n",
    "    Created: April 2023"
   ]
  },
  {
   "cell_type": "markdown",
   "metadata": {},
   "source": [
    "# 1. Introduction & Overview\n",
    "[HTAN](https://humantumoratlas.org/) is a National Cancer Institute (NCI)-funded Cancer MoonshotSM initiative to construct 3-dimensional atlases of the dynamic cellular, morphological, and molecular features of human cancers as they evolve from precancerous lesions to advanced disease. [Cell April 2020](https://www.sciencedirect.com/science/article/pii/S0092867420303469) \n",
    "\n",
    "__Important__: This notebook is intended to be run within the Seven Bridges Cancer Genomics Cloud (SB-CGC) Data Studio. You must have dbGaP authorization to access controlled-access HTAN data within SB-CGC. See the [HTAN Missing Manual](https://docs.humantumoratlas.org/access_controlled/db_gap/) for instructions on how to request dbGaP access.\n",
    "\n",
    "### 1.1 Goal\n",
    "\n",
    "This notebook will demonstrate how open-access HTAN data can be added to the Seven Bridges Cancer Genomics Cloud and used in conjunction with lower level dbGaP authorized data in the cloud. We utilize ISB-CGC BigQuery metadata tables to obtain relevant file info. \n",
    "\n",
    "### 1.2 Inputs and Outputs\n",
    "\n",
    "In this example, we aim to replicate outputs of the spaceranger pipeline using 10X Visium data submitted by the Washington University in St. Louis (WashU) HTAN Center for run _HT264P1-S1H2Fc2U1Z1Bs1-H2Bs2-Test_.\n",
    "\n"
   ]
  },
  {
   "cell_type": "markdown",
   "metadata": {},
   "source": [
    "# 2. Environment & Module Setup"
   ]
  },
  {
   "cell_type": "markdown",
   "metadata": {},
   "source": [
    "#### 2.1 Google Authentication"
   ]
  },
  {
   "cell_type": "markdown",
   "metadata": {},
   "source": [
    "Running the BigQuery cells in this notebook requires a Google Cloud Project, instructions for creating a project can be found in the [Google Documentation](https://cloud.google.com/resource-manager/docs/creating-managing-projects#console). The instance needs to be authorized to bill the project for queries. For more information on getting started in the cloud see 'Quick Start Guide to ISB-CGC' and alternative authentication methods can be found in the [Google Documentation](https://cloud.google.com/resource-manager/docs/creating-managing-projects#console).\n",
    "\n",
    "Before running this notebook, follow Google's documentation to install [Google Cloud SDK](https://cloud.google.com/sdk/docs/install) for your OS. \n",
    "Then open Terminal from Data Studio Launcher and run the following to set up application credentials to access Google BigQuery:\n",
    "\n",
    "`gcloud auth application-default login`\n",
    "\n",
    "Follow the prompts to complete authentication."
   ]
  },
  {
   "cell_type": "markdown",
   "metadata": {},
   "source": [
    "#### 2.2 Download and Install Spaceranger"
   ]
  },
  {
   "attachments": {},
   "cell_type": "markdown",
   "metadata": {},
   "source": [
    "Follow 10X [documentation](https://support.10xgenomics.com/spatial-gene-expression/software/pipelines/latest/installation) to download and install Spaceranger"
   ]
  },
  {
   "cell_type": "markdown",
   "metadata": {},
   "source": [
    "#### 2.3 Install Libraries"
   ]
  },
  {
   "cell_type": "code",
   "execution_count": null,
   "metadata": {},
   "outputs": [],
   "source": [
    "%pip install google-cloud-bigquery\n",
    "%pip install synapseclient\n",
    "%pip install protobuf==3.20.1 \n",
    "%pip install db-dtypes"
   ]
  },
  {
   "cell_type": "markdown",
   "metadata": {},
   "source": [
    "## 3.0 Import and Instantiate Libraries"
   ]
  },
  {
   "cell_type": "code",
   "execution_count": 8,
   "metadata": {},
   "outputs": [],
   "source": [
    "import sevenbridges as sbg\n",
    "import os\n",
    "\n",
    "from google.cloud import bigquery\n",
    "import synapseclient"
   ]
  },
  {
   "cell_type": "code",
   "execution_count": 9,
   "metadata": {},
   "outputs": [],
   "source": [
    "# set the google project that will be billed for this notebook's computations\n",
    "google_project = 'htan-dcc'\n",
    "\n",
    "# Create a client to access the data within BigQuery\n",
    "client = bigquery.Client(google_project)"
   ]
  },
  {
   "cell_type": "code",
   "execution_count": null,
   "metadata": {},
   "outputs": [],
   "source": [
    "# instantiate synapse client\n",
    "syn = synapseclient.Synapse()\n",
    "syn.login()"
   ]
  },
  {
   "cell_type": "code",
   "execution_count": 7,
   "metadata": {},
   "outputs": [],
   "source": [
    "# instantiate SB python client\n",
    "# Requires SB developer auth token: https://docs.sevenbridges.com/docs/get-your-authentication-token\n",
    "\n",
    "auth_token = '<your-auth-token>'\n",
    "\n",
    "os.environ['SB_API_ENDPOINT'] = 'https://cgc-api.sbgenomics.com/v2' \n",
    "os.environ['SB_AUTH_TOKEN'] = auth_token\n",
    "\n",
    "api = sbg.Api()"
   ]
  },
  {
   "cell_type": "markdown",
   "metadata": {},
   "source": [
    "# 4. Analysis"
   ]
  },
  {
   "cell_type": "markdown",
   "metadata": {},
   "source": [
    "### 4.1 Obtain relevant file metadata info from ISB-CGC"
   ]
  },
  {
   "cell_type": "code",
   "execution_count": 11,
   "metadata": {},
   "outputs": [
    {
     "data": {
      "text/html": [
       "<div>\n",
       "<style scoped>\n",
       "    .dataframe tbody tr th:only-of-type {\n",
       "        vertical-align: middle;\n",
       "    }\n",
       "\n",
       "    .dataframe tbody tr th {\n",
       "        vertical-align: top;\n",
       "    }\n",
       "\n",
       "    .dataframe thead th {\n",
       "        text-align: right;\n",
       "    }\n",
       "</style>\n",
       "<table border=\"1\" class=\"dataframe\">\n",
       "  <thead>\n",
       "    <tr style=\"text-align: right;\">\n",
       "      <th></th>\n",
       "      <th>Filename</th>\n",
       "      <th>HTAN_Parent_Biospecimen_ID</th>\n",
       "      <th>Component</th>\n",
       "      <th>entityId</th>\n",
       "      <th>Run_ID</th>\n",
       "      <th>md5</th>\n",
       "    </tr>\n",
       "  </thead>\n",
       "  <tbody>\n",
       "    <tr>\n",
       "      <th>0</th>\n",
       "      <td>visium_level_2_pdac_bam/HT264P1-S1H2Fc2U1Z1Bs1...</td>\n",
       "      <td>HTA12_27_5</td>\n",
       "      <td>10xVisiumSpatialTranscriptomics-RNA-seqLevel2</td>\n",
       "      <td>syn51201377</td>\n",
       "      <td>HT264P1-S1H2Fc2U1Z1Bs1-H2Bs2-Test</td>\n",
       "      <td>be3fb3eddc25e2d16149e6d1c291fbe7</td>\n",
       "    </tr>\n",
       "    <tr>\n",
       "      <th>1</th>\n",
       "      <td>visium_level_1/TWAS-HT264P1-S1H2Fc2U1Z1Bs1-H2B...</td>\n",
       "      <td>HTA12_27_5</td>\n",
       "      <td>10xVisiumSpatialTranscriptomics-RNA-seqLevel1</td>\n",
       "      <td>syn29282084</td>\n",
       "      <td>HT264P1-S1H2Fc2U1Z1Bs1-H2Bs2-Test</td>\n",
       "      <td>1f0c842a138a7eba44d01982cb8a3c8c</td>\n",
       "    </tr>\n",
       "    <tr>\n",
       "      <th>2</th>\n",
       "      <td>visium_level_1/TWAS-HT264P1-S1H2Fc2U1Z1Bs1-H2B...</td>\n",
       "      <td>HTA12_27_5</td>\n",
       "      <td>10xVisiumSpatialTranscriptomics-RNA-seqLevel1</td>\n",
       "      <td>syn29290193</td>\n",
       "      <td>HT264P1-S1H2Fc2U1Z1Bs1-H2Bs2-Test</td>\n",
       "      <td>0e68bdda626ee7fa83b4a83f7d23e2c3</td>\n",
       "    </tr>\n",
       "    <tr>\n",
       "      <th>3</th>\n",
       "      <td>visium_auxiliary_pdac/HT264P1-S1H2Fc2U1Z1Bs1-H...</td>\n",
       "      <td>HTA12_27_5</td>\n",
       "      <td>10xVisiumSpatialTranscriptomics-AuxiliaryFiles</td>\n",
       "      <td>syn51283237</td>\n",
       "      <td>HT264P1-S1H2Fc2U1Z1Bs1-H2Bs2-Test</td>\n",
       "      <td>3f0a3cdf4a7dfbac9ca9cf593795cdac</td>\n",
       "    </tr>\n",
       "    <tr>\n",
       "      <th>4</th>\n",
       "      <td>visium_auxiliary_pdac/HT264P1-S1H2Fc2U1Z1Bs1-H...</td>\n",
       "      <td>HTA12_27_5</td>\n",
       "      <td>10xVisiumSpatialTranscriptomics-AuxiliaryFiles</td>\n",
       "      <td>syn51283252</td>\n",
       "      <td>HT264P1-S1H2Fc2U1Z1Bs1-H2Bs2-Test</td>\n",
       "      <td>04cbce98dfba0636dd53bbaadf4cf6fd</td>\n",
       "    </tr>\n",
       "    <tr>\n",
       "      <th>5</th>\n",
       "      <td>visium_auxiliary_pdac/B1-HT264P1-S1H2Fc2U1.tif</td>\n",
       "      <td>HTA12_27_5</td>\n",
       "      <td>10xVisiumSpatialTranscriptomics-AuxiliaryFiles</td>\n",
       "      <td>syn51283214</td>\n",
       "      <td>HT264P1-S1H2Fc2U1Z1Bs1-H2Bs2-Test</td>\n",
       "      <td>541e816439946e6cc0c3588996f03a45</td>\n",
       "    </tr>\n",
       "  </tbody>\n",
       "</table>\n",
       "</div>"
      ],
      "text/plain": [
       "                                            Filename  \\\n",
       "0  visium_level_2_pdac_bam/HT264P1-S1H2Fc2U1Z1Bs1...   \n",
       "1  visium_level_1/TWAS-HT264P1-S1H2Fc2U1Z1Bs1-H2B...   \n",
       "2  visium_level_1/TWAS-HT264P1-S1H2Fc2U1Z1Bs1-H2B...   \n",
       "3  visium_auxiliary_pdac/HT264P1-S1H2Fc2U1Z1Bs1-H...   \n",
       "4  visium_auxiliary_pdac/HT264P1-S1H2Fc2U1Z1Bs1-H...   \n",
       "5     visium_auxiliary_pdac/B1-HT264P1-S1H2Fc2U1.tif   \n",
       "\n",
       "  HTAN_Parent_Biospecimen_ID                                       Component  \\\n",
       "0                 HTA12_27_5   10xVisiumSpatialTranscriptomics-RNA-seqLevel2   \n",
       "1                 HTA12_27_5   10xVisiumSpatialTranscriptomics-RNA-seqLevel1   \n",
       "2                 HTA12_27_5   10xVisiumSpatialTranscriptomics-RNA-seqLevel1   \n",
       "3                 HTA12_27_5  10xVisiumSpatialTranscriptomics-AuxiliaryFiles   \n",
       "4                 HTA12_27_5  10xVisiumSpatialTranscriptomics-AuxiliaryFiles   \n",
       "5                 HTA12_27_5  10xVisiumSpatialTranscriptomics-AuxiliaryFiles   \n",
       "\n",
       "      entityId                             Run_ID  \\\n",
       "0  syn51201377  HT264P1-S1H2Fc2U1Z1Bs1-H2Bs2-Test   \n",
       "1  syn29282084  HT264P1-S1H2Fc2U1Z1Bs1-H2Bs2-Test   \n",
       "2  syn29290193  HT264P1-S1H2Fc2U1Z1Bs1-H2Bs2-Test   \n",
       "3  syn51283237  HT264P1-S1H2Fc2U1Z1Bs1-H2Bs2-Test   \n",
       "4  syn51283252  HT264P1-S1H2Fc2U1Z1Bs1-H2Bs2-Test   \n",
       "5  syn51283214  HT264P1-S1H2Fc2U1Z1Bs1-H2Bs2-Test   \n",
       "\n",
       "                                md5  \n",
       "0  be3fb3eddc25e2d16149e6d1c291fbe7  \n",
       "1  1f0c842a138a7eba44d01982cb8a3c8c  \n",
       "2  0e68bdda626ee7fa83b4a83f7d23e2c3  \n",
       "3  3f0a3cdf4a7dfbac9ca9cf593795cdac  \n",
       "4  04cbce98dfba0636dd53bbaadf4cf6fd  \n",
       "5  541e816439946e6cc0c3588996f03a45  "
      ]
     },
     "execution_count": 11,
     "metadata": {},
     "output_type": "execute_result"
    }
   ],
   "source": [
    "f = client.query(\"\"\"\n",
    "    WITH l1 AS (\n",
    "        SELECT Filename,\n",
    "            HTAN_Parent_Biospecimen_ID,\n",
    "            Component,\n",
    "            entityId,\n",
    "            Run_ID,\n",
    "            md5\n",
    "        FROM `htan-dcc.ISB_CGC_r3.10xVisiumSpatialTranscriptomics-RNA-seqLevel1`\n",
    "        WHERE RUN_ID = 'HT264P1-S1H2Fc2U1Z1Bs1-H2Bs2-Test'\n",
    "    ),\n",
    "    l2 AS (\n",
    "        SELECT Filename,\n",
    "            HTAN_Parent_Biospecimen_ID,\n",
    "            Component,\n",
    "            entityId,\n",
    "            Run_ID,\n",
    "            md5\n",
    "        FROM `htan-dcc.ISB_CGC_r3.10xVisiumSpatialTranscriptomics-RNA-seqLevel2`\n",
    "        WHERE RUN_ID = 'HT264P1-S1H2Fc2U1Z1Bs1-H2Bs2-Test'\n",
    "    ),\n",
    "    aux AS (\n",
    "        SELECT Filename,\n",
    "            HTAN_Parent_Biospecimen_ID,\n",
    "            Component,\n",
    "            entityId,\n",
    "            Run_ID,\n",
    "            md5\n",
    "        FROM `htan-dcc.ISB_CGC_r3.10xVisiumSpatialTranscriptomics-AuxiliaryFiles`\n",
    "        WHERE RUN_ID = 'HT264P1-S1H2Fc2U1Z1Bs1-H2Bs2-Test'\n",
    "    )\n",
    "    SELECT * FROM l1\n",
    "    UNION ALL \n",
    "    SELECT * FROM l2\n",
    "    UNION ALL\n",
    "    SELECT * FROM aux\n",
    "\n",
    "\"\"\").result().to_dataframe()\n",
    "\n",
    "f"
   ]
  },
  {
   "cell_type": "markdown",
   "metadata": {},
   "source": [
    "### 4.2 Pull in fastq files"
   ]
  },
  {
   "cell_type": "markdown",
   "metadata": {},
   "source": [
    "RNA-seq Level 1 fastq files are controlled access and can be accessed via SB-CGC with dbGaP authorization\n",
    "\n",
    "1. Navigate to the CDS Data File Explorer: https://cgc.sbgenomics.com/datasets/file-repository \n",
    "2. Search by Sample ID 'HTA12_27_5'\n",
    "3. Select for 'FASTQ.GZ' files\n",
    "4. Add the resulting files to your project"
   ]
  },
  {
   "cell_type": "markdown",
   "metadata": {},
   "source": [
    "Check that the files have been added to your workspace:"
   ]
  },
  {
   "cell_type": "code",
   "execution_count": 12,
   "metadata": {},
   "outputs": [
    {
     "name": "stdout",
     "output_type": "stream",
     "text": [
      "TWAS-HT264P1-S1H2Fc2U1Z1Bs1-H2Bs2-Test_S3_L002_R1_001.fastq.gz\n",
      "TWAS-HT264P1-S1H2Fc2U1Z1Bs1-H2Bs2-Test_S3_L002_R2_001.fastq.gz\n"
     ]
    }
   ],
   "source": [
    "! ls /sbgenomics/project-files"
   ]
  },
  {
   "cell_type": "markdown",
   "metadata": {},
   "source": [
    "### 4.3 Download image file"
   ]
  },
  {
   "cell_type": "markdown",
   "metadata": {},
   "source": [
    "Auxiliary files including tiffs are open access. We can download the high res image from Synapse"
   ]
  },
  {
   "cell_type": "code",
   "execution_count": 5,
   "metadata": {},
   "outputs": [],
   "source": [
    "tiff = syn.get('syn51283214')"
   ]
  },
  {
   "cell_type": "code",
   "execution_count": 6,
   "metadata": {},
   "outputs": [
    {
     "data": {
      "text/plain": [
       "'/home/jovyan/.synapseCache/778/123019778/B1-HT264P1-S1H2Fc2U1.tif'"
      ]
     },
     "execution_count": 6,
     "metadata": {},
     "output_type": "execute_result"
    }
   ],
   "source": [
    "tiff.path"
   ]
  },
  {
   "cell_type": "markdown",
   "metadata": {},
   "source": [
    "### 4.4 Run Spaceranger pipeline"
   ]
  },
  {
   "cell_type": "code",
   "execution_count": 19,
   "metadata": {},
   "outputs": [],
   "source": [
    "# Spaceranger installation: https://support.10xgenomics.com/spatial-gene-expression/software/pipelines/latest/installation\n",
    "# https://github.com/reykajayasinghe/HTAN/blob/main/Single_cell_preprocessing/run_spaceranger_1.2.2.sh\n",
    "\n",
    "! sample=\"HT264P1-Test\" # Output directory\n",
    "! sample2=\"TWAS-HT264P1-S1H2Fc2U1Z1Bs1-H2Bs2-Test\" # Sample name from FASTQ filename\n",
    "! TIF_image=tiff.path # Path to brightfield image input\n",
    "! SLIDE_SERIAL_ID=\"V10Y07-094\" # Slide ID\n",
    "! AREA=B1 # https://support.10xgenomics.com/spatial-gene-expression/software/pipelines/latest/using/slide-info\n",
    "! datadirectory=\"/sbgenomics/project-files/\" # Path to FASTQs\n",
    "! reference=\"refdata-gex-GRCh38-2020-A\" # Path to Reference\n"
   ]
  },
  {
   "cell_type": "code",
   "execution_count": null,
   "metadata": {},
   "outputs": [],
   "source": [
    "! spaceranger count --id=${sample} --transcriptome=${reference} --fastqs=${datadirectory} --sample=${sample2} --image=${TIF_image} --slide=${SLIDE_SERIAL_ID} --area=${AREA} --reorient-images=true --localcores=32 --localmem=150"
   ]
  },
  {
   "cell_type": "markdown",
   "metadata": {},
   "source": [
    "### 4.5 Compare outputs with files submitted by WashU Center"
   ]
  },
  {
   "cell_type": "code",
   "execution_count": 13,
   "metadata": {},
   "outputs": [
    {
     "name": "stdout",
     "output_type": "stream",
     "text": [
      "00f1ca7606385970a3c7b0371bc2cda2  /sbgenomics/workspace/HT264P1-Test/outs/possorted_genome_bam.bam\n"
     ]
    }
   ],
   "source": [
    "! md5sum /sbgenomics/workspace/HT264P1-Test/outs/possorted_genome_bam.bam"
   ]
  },
  {
   "cell_type": "markdown",
   "metadata": {},
   "source": [
    "# 5. Relevant Citations and Links"
   ]
  },
  {
   "cell_type": "markdown",
   "metadata": {},
   "source": [
    "https://github.com/reykajayasinghe/HTAN/blob/main/Single_cell_preprocessing/run_spaceranger_1.2.2.sh\n",
    "\n",
    "https://support.10xgenomics.com/spatial-gene-expression/software/pipelines/latest/using/count"
   ]
  }
 ],
 "metadata": {
  "kernelspec": {
   "display_name": "Python 3 (ipykernel)",
   "language": "python",
   "name": "python3"
  },
  "language_info": {
   "codemirror_mode": {
    "name": "ipython",
    "version": 3
   },
   "file_extension": ".py",
   "mimetype": "text/x-python",
   "name": "python",
   "nbconvert_exporter": "python",
   "pygments_lexer": "ipython3",
   "version": "3.9.6"
  }
 },
 "nbformat": 4,
 "nbformat_minor": 4
}
