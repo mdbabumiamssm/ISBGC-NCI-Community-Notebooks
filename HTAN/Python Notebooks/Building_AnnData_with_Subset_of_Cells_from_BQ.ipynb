{
  "nbformat": 4,
  "nbformat_minor": 0,
  "metadata": {
    "colab": {
      "collapsed_sections": [],
      "name": "Building_AnnData_with_Subset_of_Cells_from_BQ.ipynb",
      "provenance": []
    },
    "kernelspec": {
      "display_name": "Python 3 (ipykernel)",
      "language": "python",
      "name": "python3"
    },
    "language_info": {
      "codemirror_mode": {
        "name": "ipython",
        "version": 3
      },
      "file_extension": ".py",
      "mimetype": "text/x-python",
      "name": "python",
      "nbconvert_exporter": "python",
      "pygments_lexer": "ipython3",
      "version": "3.10.5"
    }
  },
  "cells": [
    {
      "cell_type": "markdown",
      "metadata": {
        "id": "R7MOzfSOPBgL",
        "pycharm": {
          "name": "#%% md\n"
        }
      },
      "source": [
        "# Building AnnData with a Subset of Cells from BQ\n",
        "\n",
        "\n"
      ]
    },
    {
      "cell_type": "markdown",
      "metadata": {
        "id": "pDrXgG7gOQBF",
        "pycharm": {
          "name": "#%% md\n"
        }
      },
      "source": [
        "```\n",
        "Title:   Accessing HTAN scRNA-seq with BQ and building Scanpy AnnData objects.\n",
        "Author:  David L Gibbs (david.gibbs@systemsbiology.org)\n",
        "Created: 2022-3-29\n",
        "Purpose: Building AnnData objects\n",
        "URL:    NA \n",
        "Notes:  NA\n",
        "```"
      ]
    },
    {
      "cell_type": "markdown",
      "metadata": {
        "id": "view-in-github"
      },
      "source": [
        "<a href=\"https://colab.research.google.com/github/isb-cgc/Community-Notebooks/blob/master/HTAN/Python%20Notebooks/Building_AnnData_with_Subset_of_Cells_from_BQ.ipynb\" target=\"_parent\"><img src=\"https://colab.research.google.com/assets/colab-badge.svg\" alt=\"Open In Colab\"/></a>"
      ]
    },
    {
      "cell_type": "markdown",
      "metadata": {
        "id": "XWw9WmKxGfHr",
        "pycharm": {
          "name": "#%% md\n"
        }
      },
      "source": [
        "# 1. Introduction & Overview\n",
        "[HTAN](https://humantumoratlas.org/) is a National Cancer Institute (NCI)-funded Cancer Moonshot<sup>SM</sup> initiative to construct 3-dimensional atlases of the dynamic cellular, morphological, and molecular features of human cancers as they evolve from precancerous lesions to advanced disease ( [Cell April 2020](https://www.sciencedirect.com/science/article/pii/S0092867420303469) )\n",
        "\n",
        "This notebook shows how cells of a particular type can be pulled from BigQuery tables and used to construct an [AnnData](https://anndata.readthedocs.io/en/latest/#:~:text=anndata%20is%20a%20Python%20package,operations%2C%20and%20a%20PyTorch%20interface.) object.\n",
        "\n",
        "### 1.1 Notebook Goal\n",
        "\n",
        "The goal of this notebook is to show users how public HTAN single cell data can be queried and assembled for further processing. The total time for executing this tutorial should be about **10 minutes**.\n",
        "\n",
        "### 1.2 Inputs, Outputs, & Data\n",
        "\n",
        "The input for this analysis is the HTAN single cell RNA sequencing data (Level 2, gene summarized). The data set is filtered according to a specific cell type and patient population. The data is pulled into this notebook a google cloud connection. More details are shown below.\n",
        "\n"
      ]
    },
    {
      "cell_type": "markdown",
      "metadata": {
        "id": "7DKL8eZ7GfHt",
        "pycharm": {
          "name": "#%% md\n"
        }
      },
      "source": [
        "# 2. Environment & Module Setup\n",
        "The libraries used in this analysis fall into two categories: those needed for google cloud connection and those needed for the analysis itself."
      ]
    },
    {
      "cell_type": "code",
      "source": [
        "#If running in google colab, you may have to run the following.\n",
        "!pip install scanpy\n",
        "!pip install matplotlib==3.1.3"
      ],
      "metadata": {
        "id": "z_-4uPtNXKA7",
        "pycharm": {
          "name": "#%%\n"
        }
      },
      "execution_count": null,
      "outputs": []
    },
    {
      "cell_type": "code",
      "execution_count": null,
      "metadata": {
        "id": "H3NECZ68OlR-",
        "pycharm": {
          "name": "#%%\n"
        }
      },
      "outputs": [],
      "source": [
        "# Data Analytics\n",
        "import numpy as np\n",
        "from scipy import stats\n",
        "from scipy import sparse\n",
        "import scanpy as sc"
      ]
    },
    {
      "cell_type": "markdown",
      "source": [
        "The following snippet controls plotting parameters."
      ],
      "metadata": {
        "id": "LDgbGub3AenA",
        "pycharm": {
          "name": "#%% md\n"
        }
      }
    },
    {
      "cell_type": "code",
      "execution_count": null,
      "metadata": {
        "id": "bu5_CxEb72l4",
        "pycharm": {
          "name": "#%%\n"
        }
      },
      "outputs": [],
      "source": [
        "import matplotlib.pyplot as plt\n",
        "plt.rcParams['figure.figsize'] = [8, 8]"
      ]
    },
    {
      "cell_type": "markdown",
      "metadata": {
        "id": "rssn8rLmGfH0",
        "pycharm": {
          "name": "#%% md\n"
        }
      },
      "source": [
        "# 3. Google Authentication\n",
        "\n",
        "Running the BigQuery cells in this notebook requires a Google Cloud Project, instructions for creating a project can be found in the [Google Documentation](https://cloud.google.com/resource-manager/docs/creating-managing-projects#console). The instance needs to be authorized to bill the project for queries. For more information on getting started in the cloud see [Quick Start Guide to ISB-CGC](https://nbviewer.org/github/isb-cgc/Community-Notebooks/blob/master/Notebooks/Quick_Start_Guide_to_ISB_CGC.ipynb) and alternative authentication methods can be found in the [Google Documentation](https://cloud.google.com/resource-manager/docs/creating-managing-projects#console)."
      ]
    },
    {
      "cell_type": "code",
      "execution_count": null,
      "metadata": {
        "id": "9gDzoZc6GfH2",
        "pycharm": {
          "name": "#%%\n",
          "is_executing": true
        }
      },
      "outputs": [],
      "source": [
        "# GCP Libraries\n",
        "from google.cloud import bigquery\n",
        "from google.colab import auth\n",
        "# if you're using Google Colab, authenticate to gcloud with the following\n",
        "auth.authenticate_user()"
      ]
    },
    {
      "cell_type": "code",
      "execution_count": null,
      "outputs": [],
      "source": [
        "# Alternatively, if you're running the notebook locally,\n",
        "# on the command line use \"gcloud auth application-default login\"\n",
        "# to generate a key, take note of where your credentials are saved\n",
        "# and set the GOOGLE_APPLICATION_CREDENTIALS environment variable using\n",
        "# the jupyter magic command \"%env GOOGLE_APPLICATION_CREDENTIALS=<path to key>\"\n",
        "# then import \"from google.cloud import bigquery\"\n",
        "# and you can continue to creating the BigQuery client below."
      ],
      "metadata": {
        "pycharm": {
          "name": "#%%\n",
          "is_executing": true
        },
        "id": "he8EsvHhS0qI"
      }
    },
    {
      "cell_type": "code",
      "execution_count": null,
      "metadata": {
        "id": "6AiGLpeFGfH3",
        "pycharm": {
          "name": "#%%\n"
        }
      },
      "outputs": [],
      "source": [
        "## Setup ##\n",
        "\n",
        "# set the google project that will be referenced for this notebook's computations\n",
        "google_project = 'your-project'\n",
        "\n",
        "# Create a client to access the data within BigQuery\n",
        "client = bigquery.Client(google_project)"
      ]
    },
    {
      "cell_type": "markdown",
      "metadata": {
        "id": "p1fu0l1N8maJ",
        "pycharm": {
          "name": "#%% md\n"
        }
      },
      "source": [
        "In the next sections, we select a subset of cells from BigQuery, and then construct an AnnData object, which lets us continue working with the Scanpy library."
      ]
    },
    {
      "cell_type": "markdown",
      "metadata": {
        "id": "TJSsoOuVO6zP",
        "pycharm": {
          "name": "#%% md\n"
        }
      },
      "source": [
        "# 4. Building AnnDatas from BigQuery\n",
        "\n",
        "If the data is transferred to BigQuery in a way that preserves the AnnData structures, with the X matrix, the obs table that decribes the cells, and var tables that describe the genes, then it should be easy to reconstruct the data structure and use Scanpy functions."
      ]
    },
    {
      "cell_type": "markdown",
      "metadata": {
        "id": "xjcFG2apivIR",
        "pycharm": {
          "name": "#%% md\n"
        }
      },
      "source": [
        "An AnnData object requires three key parts, the gene counts, X, the gene index, var, and the cell barcodes, obs. In the following snippet, we construct an SQL query to pull in the AnnData parts and transform them into a dataframe object.\n",
        "\n",
        "First we obtain the matrix of gene counts. These come from the CHOP scRNAseq table from HTAN in isb-cgc-bq. Specifically, this analysis will focus on mature, plasma-B-like, B cells in female individuals. "
      ]
    },
    {
      "cell_type": "code",
      "execution_count": null,
      "metadata": {
        "id": "3mbpBf1GOkxR",
        "pycharm": {
          "name": "#%%\n"
        }
      },
      "outputs": [],
      "source": [
        "X = client.query(\"\"\"\n",
        "\n",
        "  SELECT\n",
        "    iObs,\n",
        "    iVar,\n",
        "    X_value    \n",
        "  FROM\n",
        "    `isb-cgc-bq.HTAN.scRNAseq_CHOP_seurat_integrated_18MLLr_normal_final_rename_current`\n",
        "  WHERE\n",
        "    iObs in (\n",
        "    SELECT \n",
        "      distinct(iObs) from \n",
        "      `isb-cgc-bq.HTAN.scRNAseq_CHOP_seurat_integrated_18MLLr_normal_final_rename_current`\n",
        "      WHERE \n",
        "      Cell_Type = 'Mature_B' AND\n",
        "      Projected_Cell_Type = 'Plasma-B-like' AND\n",
        "      Gender = 'Female'\n",
        "          )\n",
        "\n",
        "    \"\"\").result().to_dataframe()"
      ]
    },
    {
      "cell_type": "code",
      "source": [
        "X"
      ],
      "metadata": {
        "id": "pAmrsRz2COIa",
        "pycharm": {
          "name": "#%%\n"
        },
        "outputId": "2a85fb27-cd85-4824-f37d-6c1f00514ee3"
      },
      "execution_count": null,
      "outputs": [
        {
          "data": {
            "text/plain": "        iObs   iVar   X_value\n0      28888   3008  3.699530\n1      29491   9597  1.452743\n2      29140     82  2.902360\n3      29140   6734  3.870278\n4      28961   5742  1.358615\n...      ...    ...       ...\n28726  30631  13651  1.381439\n28727  30631  14856  1.381439\n28728  30631   5413  1.381439\n28729  30631   7235  1.381439\n28730  30631  11824  1.381439\n\n[28731 rows x 3 columns]",
            "text/html": "<div>\n<style scoped>\n    .dataframe tbody tr th:only-of-type {\n        vertical-align: middle;\n    }\n\n    .dataframe tbody tr th {\n        vertical-align: top;\n    }\n\n    .dataframe thead th {\n        text-align: right;\n    }\n</style>\n<table border=\"1\" class=\"dataframe\">\n  <thead>\n    <tr style=\"text-align: right;\">\n      <th></th>\n      <th>iObs</th>\n      <th>iVar</th>\n      <th>X_value</th>\n    </tr>\n  </thead>\n  <tbody>\n    <tr>\n      <th>0</th>\n      <td>28888</td>\n      <td>3008</td>\n      <td>3.699530</td>\n    </tr>\n    <tr>\n      <th>1</th>\n      <td>29491</td>\n      <td>9597</td>\n      <td>1.452743</td>\n    </tr>\n    <tr>\n      <th>2</th>\n      <td>29140</td>\n      <td>82</td>\n      <td>2.902360</td>\n    </tr>\n    <tr>\n      <th>3</th>\n      <td>29140</td>\n      <td>6734</td>\n      <td>3.870278</td>\n    </tr>\n    <tr>\n      <th>4</th>\n      <td>28961</td>\n      <td>5742</td>\n      <td>1.358615</td>\n    </tr>\n    <tr>\n      <th>...</th>\n      <td>...</td>\n      <td>...</td>\n      <td>...</td>\n    </tr>\n    <tr>\n      <th>28726</th>\n      <td>30631</td>\n      <td>13651</td>\n      <td>1.381439</td>\n    </tr>\n    <tr>\n      <th>28727</th>\n      <td>30631</td>\n      <td>14856</td>\n      <td>1.381439</td>\n    </tr>\n    <tr>\n      <th>28728</th>\n      <td>30631</td>\n      <td>5413</td>\n      <td>1.381439</td>\n    </tr>\n    <tr>\n      <th>28729</th>\n      <td>30631</td>\n      <td>7235</td>\n      <td>1.381439</td>\n    </tr>\n    <tr>\n      <th>28730</th>\n      <td>30631</td>\n      <td>11824</td>\n      <td>1.381439</td>\n    </tr>\n  </tbody>\n</table>\n<p>28731 rows × 3 columns</p>\n</div>"
          },
          "execution_count": 19,
          "metadata": {},
          "output_type": "execute_result"
        }
      ]
    },
    {
      "cell_type": "markdown",
      "source": [
        "X is stored as a sparse matrix, iObs and iVar are indices into the obs and var tables respectively.\n",
        "\n",
        "Next, we will get the observations for each cell using the same method above in a new dataframe."
      ],
      "metadata": {
        "id": "q8MKy3_WBmvb",
        "pycharm": {
          "name": "#%% md\n"
        }
      }
    },
    {
      "cell_type": "code",
      "execution_count": null,
      "metadata": {
        "id": "aNTvTNAlTZWM",
        "pycharm": {
          "name": "#%%\n"
        }
      },
      "outputs": [],
      "source": [
        "obs = client.query(\"\"\"\n",
        "\n",
        "SELECT \n",
        "  iObs,\n",
        "  Cell_Name,\n",
        "  nCount_RNA,\n",
        "  nFeature_RNA,\n",
        "  Sample,\n",
        "  Perc_mito,\n",
        "  Seurat_Clusters,\n",
        "  SpecimenType,\n",
        "  Therapy,\n",
        "  Cell_Type,\n",
        "  Phase\n",
        "FROM \n",
        "  `isb-cgc-bq.HTAN.scRNAseq_CHOP_seurat_integrated_18MLLr_normal_final_rename_current` \n",
        "WHERE\n",
        "      Cell_Type = 'Mature_B' AND\n",
        "      Projected_Cell_Type = 'Plasma-B-like' AND\n",
        "      Gender = 'Female'\n",
        "GROUP BY\n",
        "  1,2,3,4,5,6,7,8,9,10,11\n",
        "\n",
        "    \"\"\").result().to_dataframe()"
      ]
    },
    {
      "cell_type": "code",
      "source": [
        "obs"
      ],
      "metadata": {
        "id": "CsKBq1f6CPWq",
        "pycharm": {
          "name": "#%%\n"
        },
        "outputId": "69e26584-a678-4251-ab25-876421f31a53"
      },
      "execution_count": null,
      "outputs": [
        {
          "data": {
            "text/plain": "     iObs                    Cell_Name  nCount_RNA  nFeature_RNA  Sample  \\\n0   29491  MLLr870684_TCGGTCTAGGCATGCA     15268.0          2649  PAYKGI   \n1   28888  MLLr870684_CCTCACATCCATCACC      6087.0          2248  PAYKGI   \n2   30511  MLLr875706_CGTGATATCTACGCAA      7522.0          2225  PAYUZM   \n3   30631  MLLr875706_CTGGCAGTCTGGGCAC      3355.0          1311  PAYUZM   \n4   29140  MLLr870684_GATTGGTTCCGTGTAA      6389.0          1963  PAYKGI   \n5   28961  MLLr870684_CTACCCACAGAACCGA     13837.0          2927  PAYKGI   \n6   30836  MLLr875706_GCCGTGACAGCAATTC      3604.0          1339  PAYUZM   \n7   29940  MLLr875706_AGAAGTAAGCCTCAAT      4579.0          1443  PAYUZM   \n8   35102  MLLr878289_GAAATGACATGACAGG     14492.0          2396  PAYZLC   \n9   31195  MLLr875706_TATCTTGCATTCACAG      5180.0          1682  PAYUZM   \n10  35524  MLLr878289_GTCAGCGGTTGTATGC      8606.0          1630  PAYZLC   \n11  35631  MLLr878289_GTTGTGAAGTTGCTCA     21352.0          2585  PAYZLC   \n12  29395  MLLr870684_TAGGGTTAGCTGAAGC      5603.0          1732  PAYKGI   \n13  29996  MLLr875706_AGCTTCCCAAAGCTAA      3542.0          1406  PAYUZM   \n14   4153  MLLr879583_TCCAGAACAAATTAGG      3248.0          1195  PAZBSZ   \n\n    Perc_mito  Seurat_Clusters SpecimenType   Therapy Cell_Type Phase  \n0    0.054013               13           PB  AALL15P1  Mature_B    G1  \n1    0.085742                1           PB  AALL15P1  Mature_B    G1  \n2    0.053310               15           PB  AALL15P1  Mature_B    G1  \n3    0.051863               15           PB  AALL15P1  Mature_B   G2M  \n4    0.075912               15           PB  AALL15P1  Mature_B    G1  \n5    0.053042               13           PB  AALL15P1  Mature_B    G1  \n6    0.042730               15           PB  AALL15P1  Mature_B   G2M  \n7    0.051103               15           PB  AALL15P1  Mature_B    G1  \n8    0.050849               13           PB  AALL15P1  Mature_B    G1  \n9    0.060811                1           PB  AALL15P1  Mature_B    G1  \n10   0.066117                1           PB  AALL15P1  Mature_B    G1  \n11   0.037345               13           PB  AALL15P1  Mature_B    G1  \n12   0.070664               15           PB  AALL15P1  Mature_B    G1  \n13   0.074534               15           PB  AALL15P1  Mature_B    G1  \n14   0.056034                1           PB  AALL15P1  Mature_B    G1  ",
            "text/html": "<div>\n<style scoped>\n    .dataframe tbody tr th:only-of-type {\n        vertical-align: middle;\n    }\n\n    .dataframe tbody tr th {\n        vertical-align: top;\n    }\n\n    .dataframe thead th {\n        text-align: right;\n    }\n</style>\n<table border=\"1\" class=\"dataframe\">\n  <thead>\n    <tr style=\"text-align: right;\">\n      <th></th>\n      <th>iObs</th>\n      <th>Cell_Name</th>\n      <th>nCount_RNA</th>\n      <th>nFeature_RNA</th>\n      <th>Sample</th>\n      <th>Perc_mito</th>\n      <th>Seurat_Clusters</th>\n      <th>SpecimenType</th>\n      <th>Therapy</th>\n      <th>Cell_Type</th>\n      <th>Phase</th>\n    </tr>\n  </thead>\n  <tbody>\n    <tr>\n      <th>0</th>\n      <td>29491</td>\n      <td>MLLr870684_TCGGTCTAGGCATGCA</td>\n      <td>15268.0</td>\n      <td>2649</td>\n      <td>PAYKGI</td>\n      <td>0.054013</td>\n      <td>13</td>\n      <td>PB</td>\n      <td>AALL15P1</td>\n      <td>Mature_B</td>\n      <td>G1</td>\n    </tr>\n    <tr>\n      <th>1</th>\n      <td>28888</td>\n      <td>MLLr870684_CCTCACATCCATCACC</td>\n      <td>6087.0</td>\n      <td>2248</td>\n      <td>PAYKGI</td>\n      <td>0.085742</td>\n      <td>1</td>\n      <td>PB</td>\n      <td>AALL15P1</td>\n      <td>Mature_B</td>\n      <td>G1</td>\n    </tr>\n    <tr>\n      <th>2</th>\n      <td>30511</td>\n      <td>MLLr875706_CGTGATATCTACGCAA</td>\n      <td>7522.0</td>\n      <td>2225</td>\n      <td>PAYUZM</td>\n      <td>0.053310</td>\n      <td>15</td>\n      <td>PB</td>\n      <td>AALL15P1</td>\n      <td>Mature_B</td>\n      <td>G1</td>\n    </tr>\n    <tr>\n      <th>3</th>\n      <td>30631</td>\n      <td>MLLr875706_CTGGCAGTCTGGGCAC</td>\n      <td>3355.0</td>\n      <td>1311</td>\n      <td>PAYUZM</td>\n      <td>0.051863</td>\n      <td>15</td>\n      <td>PB</td>\n      <td>AALL15P1</td>\n      <td>Mature_B</td>\n      <td>G2M</td>\n    </tr>\n    <tr>\n      <th>4</th>\n      <td>29140</td>\n      <td>MLLr870684_GATTGGTTCCGTGTAA</td>\n      <td>6389.0</td>\n      <td>1963</td>\n      <td>PAYKGI</td>\n      <td>0.075912</td>\n      <td>15</td>\n      <td>PB</td>\n      <td>AALL15P1</td>\n      <td>Mature_B</td>\n      <td>G1</td>\n    </tr>\n    <tr>\n      <th>5</th>\n      <td>28961</td>\n      <td>MLLr870684_CTACCCACAGAACCGA</td>\n      <td>13837.0</td>\n      <td>2927</td>\n      <td>PAYKGI</td>\n      <td>0.053042</td>\n      <td>13</td>\n      <td>PB</td>\n      <td>AALL15P1</td>\n      <td>Mature_B</td>\n      <td>G1</td>\n    </tr>\n    <tr>\n      <th>6</th>\n      <td>30836</td>\n      <td>MLLr875706_GCCGTGACAGCAATTC</td>\n      <td>3604.0</td>\n      <td>1339</td>\n      <td>PAYUZM</td>\n      <td>0.042730</td>\n      <td>15</td>\n      <td>PB</td>\n      <td>AALL15P1</td>\n      <td>Mature_B</td>\n      <td>G2M</td>\n    </tr>\n    <tr>\n      <th>7</th>\n      <td>29940</td>\n      <td>MLLr875706_AGAAGTAAGCCTCAAT</td>\n      <td>4579.0</td>\n      <td>1443</td>\n      <td>PAYUZM</td>\n      <td>0.051103</td>\n      <td>15</td>\n      <td>PB</td>\n      <td>AALL15P1</td>\n      <td>Mature_B</td>\n      <td>G1</td>\n    </tr>\n    <tr>\n      <th>8</th>\n      <td>35102</td>\n      <td>MLLr878289_GAAATGACATGACAGG</td>\n      <td>14492.0</td>\n      <td>2396</td>\n      <td>PAYZLC</td>\n      <td>0.050849</td>\n      <td>13</td>\n      <td>PB</td>\n      <td>AALL15P1</td>\n      <td>Mature_B</td>\n      <td>G1</td>\n    </tr>\n    <tr>\n      <th>9</th>\n      <td>31195</td>\n      <td>MLLr875706_TATCTTGCATTCACAG</td>\n      <td>5180.0</td>\n      <td>1682</td>\n      <td>PAYUZM</td>\n      <td>0.060811</td>\n      <td>1</td>\n      <td>PB</td>\n      <td>AALL15P1</td>\n      <td>Mature_B</td>\n      <td>G1</td>\n    </tr>\n    <tr>\n      <th>10</th>\n      <td>35524</td>\n      <td>MLLr878289_GTCAGCGGTTGTATGC</td>\n      <td>8606.0</td>\n      <td>1630</td>\n      <td>PAYZLC</td>\n      <td>0.066117</td>\n      <td>1</td>\n      <td>PB</td>\n      <td>AALL15P1</td>\n      <td>Mature_B</td>\n      <td>G1</td>\n    </tr>\n    <tr>\n      <th>11</th>\n      <td>35631</td>\n      <td>MLLr878289_GTTGTGAAGTTGCTCA</td>\n      <td>21352.0</td>\n      <td>2585</td>\n      <td>PAYZLC</td>\n      <td>0.037345</td>\n      <td>13</td>\n      <td>PB</td>\n      <td>AALL15P1</td>\n      <td>Mature_B</td>\n      <td>G1</td>\n    </tr>\n    <tr>\n      <th>12</th>\n      <td>29395</td>\n      <td>MLLr870684_TAGGGTTAGCTGAAGC</td>\n      <td>5603.0</td>\n      <td>1732</td>\n      <td>PAYKGI</td>\n      <td>0.070664</td>\n      <td>15</td>\n      <td>PB</td>\n      <td>AALL15P1</td>\n      <td>Mature_B</td>\n      <td>G1</td>\n    </tr>\n    <tr>\n      <th>13</th>\n      <td>29996</td>\n      <td>MLLr875706_AGCTTCCCAAAGCTAA</td>\n      <td>3542.0</td>\n      <td>1406</td>\n      <td>PAYUZM</td>\n      <td>0.074534</td>\n      <td>15</td>\n      <td>PB</td>\n      <td>AALL15P1</td>\n      <td>Mature_B</td>\n      <td>G1</td>\n    </tr>\n    <tr>\n      <th>14</th>\n      <td>4153</td>\n      <td>MLLr879583_TCCAGAACAAATTAGG</td>\n      <td>3248.0</td>\n      <td>1195</td>\n      <td>PAZBSZ</td>\n      <td>0.056034</td>\n      <td>1</td>\n      <td>PB</td>\n      <td>AALL15P1</td>\n      <td>Mature_B</td>\n      <td>G1</td>\n    </tr>\n  </tbody>\n</table>\n</div>"
          },
          "execution_count": 21,
          "metadata": {},
          "output_type": "execute_result"
        }
      ]
    },
    {
      "cell_type": "markdown",
      "source": [
        "Lastly, we'll get the gene index with the following snippet in the same manner."
      ],
      "metadata": {
        "id": "YtjgP8veBuW1",
        "pycharm": {
          "name": "#%% md\n"
        }
      }
    },
    {
      "cell_type": "code",
      "execution_count": null,
      "metadata": {
        "id": "s7OrHUjrTYpD",
        "pycharm": {
          "name": "#%%\n"
        }
      },
      "outputs": [],
      "source": [
        "var = client.query(\"\"\"\n",
        "\n",
        "  SELECT\n",
        "    iVar,\n",
        "    Cell_Name,\n",
        "    Gene_Name as GeneSymbol\n",
        "  FROM\n",
        "    `isb-cgc-bq.HTAN.scRNAseq_CHOP_seurat_integrated_18MLLr_normal_final_rename_current`\n",
        "  WHERE\n",
        "      Cell_Type = 'Mature_B' AND\n",
        "      Projected_Cell_Type = 'Plasma-B-like' AND\n",
        "      Gender = 'Female'\n",
        "  GROUP BY 1,2,3\n",
        "    \"\"\").result().to_dataframe()\n",
        "\n"
      ]
    },
    {
      "cell_type": "code",
      "execution_count": null,
      "metadata": {
        "colab": {
          "base_uri": "https://localhost:8080/",
          "height": 424
        },
        "id": "yrQAzfyOw9BR",
        "outputId": "d7bcf3a4-a37c-451d-e895-2163ccd13dca",
        "pycharm": {
          "name": "#%%\n"
        }
      },
      "outputs": [
        {
          "data": {
            "text/plain": "        iVar                    Cell_Name GeneSymbol\n0       6477  MLLr870684_CCTCACATCCATCACC      USP9X\n1        137  MLLr870684_CCTCACATCCATCACC    EXOSC10\n2       9100  MLLr870684_CCTCACATCCATCACC      AGAP4\n3       2474  MLLr870684_CCTCACATCCATCACC      ICA1L\n4        379  MLLr870684_CCTCACATCCATCACC      RBBP4\n...      ...                          ...        ...\n28726   8401  MLLr879583_TCCAGAACAAATTAGG       FTH1\n28727  11213  MLLr879583_TCCAGAACAAATTAGG       IGHM\n28728  11980  MLLr879583_TCCAGAACAAATTAGG     RPS15A\n28729  15202  MLLr879583_TCCAGAACAAATTAGG    TBC1D17\n28730   8507  MLLr879583_TCCAGAACAAATTAGG     MALAT1\n\n[28731 rows x 3 columns]",
            "text/html": "<div>\n<style scoped>\n    .dataframe tbody tr th:only-of-type {\n        vertical-align: middle;\n    }\n\n    .dataframe tbody tr th {\n        vertical-align: top;\n    }\n\n    .dataframe thead th {\n        text-align: right;\n    }\n</style>\n<table border=\"1\" class=\"dataframe\">\n  <thead>\n    <tr style=\"text-align: right;\">\n      <th></th>\n      <th>iVar</th>\n      <th>Cell_Name</th>\n      <th>GeneSymbol</th>\n    </tr>\n  </thead>\n  <tbody>\n    <tr>\n      <th>0</th>\n      <td>6477</td>\n      <td>MLLr870684_CCTCACATCCATCACC</td>\n      <td>USP9X</td>\n    </tr>\n    <tr>\n      <th>1</th>\n      <td>137</td>\n      <td>MLLr870684_CCTCACATCCATCACC</td>\n      <td>EXOSC10</td>\n    </tr>\n    <tr>\n      <th>2</th>\n      <td>9100</td>\n      <td>MLLr870684_CCTCACATCCATCACC</td>\n      <td>AGAP4</td>\n    </tr>\n    <tr>\n      <th>3</th>\n      <td>2474</td>\n      <td>MLLr870684_CCTCACATCCATCACC</td>\n      <td>ICA1L</td>\n    </tr>\n    <tr>\n      <th>4</th>\n      <td>379</td>\n      <td>MLLr870684_CCTCACATCCATCACC</td>\n      <td>RBBP4</td>\n    </tr>\n    <tr>\n      <th>...</th>\n      <td>...</td>\n      <td>...</td>\n      <td>...</td>\n    </tr>\n    <tr>\n      <th>28726</th>\n      <td>8401</td>\n      <td>MLLr879583_TCCAGAACAAATTAGG</td>\n      <td>FTH1</td>\n    </tr>\n    <tr>\n      <th>28727</th>\n      <td>11213</td>\n      <td>MLLr879583_TCCAGAACAAATTAGG</td>\n      <td>IGHM</td>\n    </tr>\n    <tr>\n      <th>28728</th>\n      <td>11980</td>\n      <td>MLLr879583_TCCAGAACAAATTAGG</td>\n      <td>RPS15A</td>\n    </tr>\n    <tr>\n      <th>28729</th>\n      <td>15202</td>\n      <td>MLLr879583_TCCAGAACAAATTAGG</td>\n      <td>TBC1D17</td>\n    </tr>\n    <tr>\n      <th>28730</th>\n      <td>8507</td>\n      <td>MLLr879583_TCCAGAACAAATTAGG</td>\n      <td>MALAT1</td>\n    </tr>\n  </tbody>\n</table>\n<p>28731 rows × 3 columns</p>\n</div>"
          },
          "execution_count": 23,
          "metadata": {},
          "output_type": "execute_result"
        }
      ],
      "source": [
        "var"
      ]
    },
    {
      "cell_type": "markdown",
      "metadata": {
        "id": "Ba-iSXpwi3a_",
        "pycharm": {
          "name": "#%% md\n"
        }
      },
      "source": [
        "Before continuing, we need to do a little bit of table index shifting. This will shift the index of the tables we just made to 0."
      ]
    },
    {
      "cell_type": "code",
      "source": [
        "# shift the index to 0-index\n",
        "var.index = var['GeneSymbol']\n",
        "var.iVar = var.iVar-1\n",
        "X.iVar = X.iVar-1"
      ],
      "metadata": {
        "id": "E9UHI6-mHEmU",
        "pycharm": {
          "name": "#%%\n"
        }
      },
      "execution_count": null,
      "outputs": []
    },
    {
      "cell_type": "markdown",
      "source": [
        "Then, the following lines will map the re-indexed X table we made to the obs table."
      ],
      "metadata": {
        "id": "ZgAHVM8XCjd3",
        "pycharm": {
          "name": "#%% md\n"
        }
      }
    },
    {
      "cell_type": "code",
      "execution_count": null,
      "metadata": {
        "id": "lLfrWPijiBqQ",
        "pycharm": {
          "name": "#%%\n"
        }
      },
      "outputs": [],
      "source": [
        "# fix the obs index by reindexing\n",
        "iObsDict = dict(zip(obs.iObs, obs.index))\n",
        "X.iObs = [iObsDict[a] for a in X.iObs]"
      ]
    },
    {
      "cell_type": "markdown",
      "source": [
        "Next, we convert the pandas dataframe into a sparse matrix."
      ],
      "metadata": {
        "id": "L2_iY8u4Cz25",
        "pycharm": {
          "name": "#%% md\n"
        }
      }
    },
    {
      "cell_type": "code",
      "execution_count": null,
      "metadata": {
        "colab": {
          "base_uri": "https://localhost:8080/"
        },
        "id": "knJQYO8vfnnb",
        "outputId": "b4911b54-437b-46d3-f246-652fa5410b60",
        "pycharm": {
          "name": "#%%\n"
        }
      },
      "outputs": [
        {
          "data": {
            "text/plain": "<15x28731 sparse matrix of type '<class 'numpy.float64'>'\n\twith 28731 stored elements in Compressed Sparse Row format>"
          },
          "execution_count": 26,
          "metadata": {},
          "output_type": "execute_result"
        }
      ],
      "source": [
        "sparseX2 = sparse.csr_matrix( (X.X_value, (X.iObs, X.iVar)), shape=(len(obs),len(var)))\n",
        "sparseX2"
      ]
    },
    {
      "cell_type": "markdown",
      "source": [
        "Finally, we use the sparse matrix, obs and var tables we have created in a AnnData object."
      ],
      "metadata": {
        "id": "a0ZnhZbeC8HZ",
        "pycharm": {
          "name": "#%% md\n"
        }
      }
    },
    {
      "cell_type": "code",
      "execution_count": null,
      "metadata": {
        "colab": {
          "base_uri": "https://localhost:8080/"
        },
        "id": "5eZdbLHjkCUm",
        "outputId": "16254d6f-9798-4945-f5d1-0b55c33fceb9",
        "pycharm": {
          "name": "#%%\n"
        }
      },
      "outputs": [
        {
          "name": "stderr",
          "output_type": "stream",
          "text": [
            "C:\\Users\\12064\\AppData\\Local\\Temp\\ipykernel_13812\\490204513.py:2: FutureWarning: X.dtype being converted to np.float32 from float64. In the next version of anndata (0.9) conversion will not be automatic. Pass dtype explicitly to avoid this warning. Pass `AnnData(X, dtype=X.dtype, ...)` to get the future behavour.\n",
            "  adata = sc.AnnData(X=sparseX2, obs=obs, var=var)\n",
            "F:\\Work\\htan\\Community-Notebooks\\venv\\lib\\site-packages\\anndata\\_core\\anndata.py:121: ImplicitModificationWarning: Transforming to str index.\n",
            "  warnings.warn(\"Transforming to str index.\", ImplicitModificationWarning)\n",
            "F:\\Work\\htan\\Community-Notebooks\\venv\\lib\\site-packages\\anndata\\_core\\anndata.py:1830: UserWarning: Variable names are not unique. To make them unique, call `.var_names_make_unique`.\n",
            "  utils.warn_names_duplicates(\"var\")\n"
          ]
        }
      ],
      "source": [
        "# build the AnnData\n",
        "adata = sc.AnnData(X=sparseX2, obs=obs, var=var)\n",
        "adata.var_names_make_unique()"
      ]
    },
    {
      "cell_type": "markdown",
      "source": [
        "Next, in order to plot some results using the AnnData we created, we will select genes of interest from our data that exhibit high expression levels."
      ],
      "metadata": {
        "id": "9M4v4sriDg1U",
        "pycharm": {
          "name": "#%% md\n"
        }
      }
    },
    {
      "cell_type": "code",
      "execution_count": null,
      "metadata": {
        "id": "1j9LEJSqoGXN",
        "pycharm": {
          "name": "#%%\n"
        }
      },
      "outputs": [],
      "source": [
        "geneCountsSum = (np.array(adata.X.sum(axis=0))[0,:])\n",
        "highExprGenes = adata.var.iloc[ np.where(geneCountsSum > 60) ].index"
      ]
    },
    {
      "cell_type": "markdown",
      "source": [
        "Lastly, we can use scanpy plotting functions to visuialize the genes we identified above.\n",
        "First we'll look at the highly expressed genes."
      ],
      "metadata": {
        "id": "vNwsqtULD2Mu",
        "pycharm": {
          "name": "#%% md\n"
        }
      }
    },
    {
      "cell_type": "code",
      "execution_count": null,
      "outputs": [
        {
          "data": {
            "text/plain": "<Figure size 360x540 with 1 Axes>",
            "image/png": "[encoded data removed]"
          },
          "metadata": {
            "needs_background": "light"
          },
          "output_type": "display_data"
        }
      ],
      "source": [
        "sc.pl.highest_expr_genes(adata)"
      ],
      "metadata": {
        "pycharm": {
          "name": "#%%\n"
        },
        "id": "GzcHN75PS0qP",
        "outputId": "c547d6bb-3de8-43ae-b519-2ed034b15b29"
      }
    },
    {
      "cell_type": "markdown",
      "source": [
        "We can also plot their mean expression by cell phase and gene of interest."
      ],
      "metadata": {
        "collapsed": false,
        "pycharm": {
          "name": "#%% md\n"
        },
        "id": "X65nowJvS0qP"
      }
    },
    {
      "cell_type": "code",
      "execution_count": null,
      "metadata": {
        "colab": {
          "base_uri": "https://localhost:8080/",
          "height": 240
        },
        "id": "jxOqiKKblRUm",
        "outputId": "06fa3e28-e97e-4333-fb75-93a359acc298",
        "pycharm": {
          "name": "#%%\n"
        }
      },
      "outputs": [
        {
          "name": "stdout",
          "output_type": "stream",
          "text": [
            "WARNING: Dendrogram not added. Dendrogram is added only when the number of categories to plot > 2\n"
          ]
        },
        {
          "data": {
            "text/plain": "<Figure size 640.8x180 with 4 Axes>",
            "image/png": "[encoded data removed]"
          },
          "metadata": {
            "needs_background": "light"
          },
          "output_type": "display_data"
        }
      ],
      "source": [
        "# now we can use the plot functions of scanpy\n",
        "sc.pl.dotplot(adata, highExprGenes, 'Phase', dendrogram=True)"
      ]
    },
    {
      "cell_type": "markdown",
      "source": [
        "We can also view the contents of the AnnData in a table format. The following table shows the counts of observations visualized above by group (cell phase)."
      ],
      "metadata": {
        "id": "OuYRNjrJELaE",
        "pycharm": {
          "name": "#%% md\n"
        }
      }
    },
    {
      "cell_type": "code",
      "execution_count": null,
      "metadata": {
        "colab": {
          "base_uri": "https://localhost:8080/"
        },
        "id": "Bv390PGimBC7",
        "outputId": "8e809286-6973-4c59-c59d-9ba786c7ceac",
        "pycharm": {
          "name": "#%%\n"
        }
      },
      "outputs": [
        {
          "data": {
            "text/plain": "G1     13\nG2M     2\nName: Phase, dtype: int64"
          },
          "execution_count": 35,
          "metadata": {},
          "output_type": "execute_result"
        }
      ],
      "source": [
        "adata.obs.Phase.value_counts()"
      ]
    },
    {
      "cell_type": "markdown",
      "source": [
        "Lastly, we can also plot the distribution of specific elements and group them accordingly. The following violin plot groups the FTL distribution by cell phase. "
      ],
      "metadata": {
        "id": "Ya4V3CFLEi1A",
        "pycharm": {
          "name": "#%% md\n"
        }
      }
    },
    {
      "cell_type": "code",
      "execution_count": null,
      "metadata": {
        "colab": {
          "base_uri": "https://localhost:8080/",
          "height": 481
        },
        "id": "PNZUGbehtoRz",
        "outputId": "6b36cc37-4c26-47b4-a8ae-d277e20544a8",
        "pycharm": {
          "name": "#%%\n"
        }
      },
      "outputs": [
        {
          "data": {
            "text/plain": "<Figure size 744.048x576 with 1 Axes>",
            "image/png": "[encoded data removed]"
          },
          "metadata": {
            "needs_background": "light"
          },
          "output_type": "display_data"
        }
      ],
      "source": [
        "sc.pl.violin(adata, 'CDK10', groupby='Phase', rotation=90)"
      ]
    },
    {
      "cell_type": "markdown",
      "source": [
        "We have successfully pulled a subset of cells out of Google big query and constructed an AnnData object in Python. This notebook serves as a general guide, therefore it is best to recreate this analysis with your own questions and variables of interest.\n",
        "\n",
        "If you have further questions, please reach out to the notebook authors or visit the links mentioned above and below.\n"
      ],
      "metadata": {
        "id": "BC9lMCq-FK9W",
        "pycharm": {
          "name": "#%% md\n"
        }
      }
    },
    {
      "cell_type": "markdown",
      "metadata": {
        "id": "5nipnrkZGfIE",
        "pycharm": {
          "name": "#%% md\n"
        }
      },
      "source": [
        "# 5. Relevant Citations and Links"
      ]
    },
    {
      "cell_type": "markdown",
      "source": [
        "\n",
        "[HTAN Portal](https://humantumoratlas.org/)   \n",
        "\n",
        "\n",
        "[Overview paper, Cell, April 2020](https://www.sciencedirect.com/science/article/pii/S0092867420303469)\n"
      ],
      "metadata": {
        "collapsed": false,
        "pycharm": {
          "name": "#%% md\n"
        },
        "id": "5FxWr3j3S0qT"
      }
    }
  ]
}
